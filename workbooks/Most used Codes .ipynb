{
 "cells": [
  {
   "cell_type": "code",
   "execution_count": null,
   "id": "b912e5ed",
   "metadata": {},
   "outputs": [],
   "source": [
    "import pandas as pd\n",
    "import numpy as np\n",
    "import datetime"
   ]
  },
  {
   "cell_type": "code",
   "execution_count": null,
   "id": "b687c88b",
   "metadata": {},
   "outputs": [],
   "source": [
    "#bring in CSV\n",
    "df= pd.read_csv(\"Name.csv\")"
   ]
  },
  {
   "cell_type": "code",
   "execution_count": null,
   "id": "017b1aa6",
   "metadata": {},
   "outputs": [],
   "source": [
    "#melt\n",
    "df.melt(['column_name'], var_name='column_name', value_name='')"
   ]
  },
  {
   "cell_type": "code",
   "execution_count": null,
   "id": "a8797824",
   "metadata": {},
   "outputs": [],
   "source": [
    "#convert to CSV\n",
    "df.to_csv('name.csv')"
   ]
  },
  {
   "cell_type": "code",
   "execution_count": null,
   "id": "8b83c388",
   "metadata": {},
   "outputs": [],
   "source": [
    "#drop column\n",
    "gdp_df = gdp_df.drop(columns =['columnname'])"
   ]
  },
  {
   "cell_type": "code",
   "execution_count": null,
   "id": "77ba5c54",
   "metadata": {},
   "outputs": [],
   "source": [
    "#what years are in this file?\n",
    "\n",
    "years_df=gdp_df.Year.value_counts().to_frame().reset_index().rename(columns = {'index' : 'Year', 'Year':'count'})\n",
    "years_df"
   ]
  },
  {
   "cell_type": "code",
   "execution_count": null,
   "id": "328a9fd3",
   "metadata": {},
   "outputs": [],
   "source": [
    "#find and replace one item \n",
    "df.column_name=df.column_name.str.replace('in','')\n",
    "#find and replace multiple item \n",
    "df.column_name=df.column_name.str.replace('in','').str.replace('lb', '')"
   ]
  },
  {
   "cell_type": "code",
   "execution_count": null,
   "id": "88663848",
   "metadata": {},
   "outputs": [],
   "source": [
    "# value_counts as dataframe\n",
    "df['course_difficulty'].value_counts().to_frame()"
   ]
  },
  {
   "cell_type": "code",
   "execution_count": null,
   "id": "636b3670",
   "metadata": {},
   "outputs": [],
   "source": [
    "value_counts = df['course_difficulty'].value_counts()\n",
    "\n",
    "# converting to df and assigning new names to the columns\n",
    "df_value_counts = pd.DataFrame(value_counts)\n",
    "df_value_counts = df_value_counts.reset_index()\n",
    "df_value_counts.columns = ['unique_values', 'counts for course_difficulty'] # change column names\n",
    "df_value_counts"
   ]
  },
  {
   "cell_type": "code",
   "execution_count": null,
   "id": "52bac193",
   "metadata": {},
   "outputs": [],
   "source": [
    "#merge 2 df's on column \n",
    "\n",
    "combined = pd.merge(mseeds1, dseeds1, on='index')\n",
    "combined"
   ]
  },
  {
   "cell_type": "code",
   "execution_count": null,
   "id": "5a8d0b4f",
   "metadata": {},
   "outputs": [],
   "source": [
    "#add seed mother and pollinator father value counts \n",
    "combined['total'] = combined['seed_mother'] + combined['pollinator_father']\n",
    "combined"
   ]
  },
  {
   "cell_type": "code",
   "execution_count": null,
   "id": "77314a55",
   "metadata": {},
   "outputs": [],
   "source": [
    " #add \"First\" Test Column to Database\n",
    "first_testing = first_test_unique.assign(Test = 'First')"
   ]
  },
  {
   "cell_type": "code",
   "execution_count": null,
   "id": "44db948b",
   "metadata": {},
   "outputs": [],
   "source": []
  },
  {
   "cell_type": "code",
   "execution_count": null,
   "id": "0f03152d",
   "metadata": {},
   "outputs": [],
   "source": []
  }
 ],
 "metadata": {
  "kernelspec": {
   "display_name": "Python 3 (ipykernel)",
   "language": "python",
   "name": "python3"
  },
  "language_info": {
   "codemirror_mode": {
    "name": "ipython",
    "version": 3
   },
   "file_extension": ".py",
   "mimetype": "text/x-python",
   "name": "python",
   "nbconvert_exporter": "python",
   "pygments_lexer": "ipython3",
   "version": "3.9.13"
  }
 },
 "nbformat": 4,
 "nbformat_minor": 5
}
