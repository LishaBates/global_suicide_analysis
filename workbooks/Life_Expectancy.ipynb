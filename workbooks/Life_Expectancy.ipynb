{
 "cells": [
  {
   "cell_type": "code",
   "execution_count": null,
   "id": "366307b1",
   "metadata": {},
   "outputs": [],
   "source": [
    "import pandas as pd"
   ]
  },
  {
   "cell_type": "code",
   "execution_count": null,
   "id": "558f3d09",
   "metadata": {},
   "outputs": [],
   "source": [
    "life=pd.read_csv('../Capstone/Data/SuicideWiki_life_expectancy_per_country.csv')"
   ]
  },
  {
   "cell_type": "code",
   "execution_count": null,
   "id": "75223220",
   "metadata": {},
   "outputs": [],
   "source": [
    "life"
   ]
  },
  {
   "cell_type": "code",
   "execution_count": null,
   "id": "bfca9c5a",
   "metadata": {},
   "outputs": [],
   "source": [
    "life= life.drop(columns =['Index'])"
   ]
  },
  {
   "cell_type": "code",
   "execution_count": null,
   "id": "df867b00",
   "metadata": {},
   "outputs": [],
   "source": [
    "life"
   ]
  },
  {
   "cell_type": "code",
   "execution_count": null,
   "id": "732a7ed0",
   "metadata": {},
   "outputs": [],
   "source": [
    "#convert to CSV\n",
    "life.to_csv('Life_Expectancy.csv')"
   ]
  }
 ],
 "metadata": {
  "kernelspec": {
   "display_name": "Python 3 (ipykernel)",
   "language": "python",
   "name": "python3"
  },
  "language_info": {
   "codemirror_mode": {
    "name": "ipython",
    "version": 3
   },
   "file_extension": ".py",
   "mimetype": "text/x-python",
   "name": "python",
   "nbconvert_exporter": "python",
   "pygments_lexer": "ipython3",
   "version": "3.9.13"
  }
 },
 "nbformat": 4,
 "nbformat_minor": 5
}
