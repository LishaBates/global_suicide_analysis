{
 "cells": [
  {
   "cell_type": "code",
   "execution_count": null,
   "id": "a0a3d67b",
   "metadata": {},
   "outputs": [],
   "source": [
    "import pandas as pd\n",
    "import numpy as np\n",
    "import datetime"
   ]
  },
  {
   "cell_type": "code",
   "execution_count": null,
   "id": "1bc72d51",
   "metadata": {},
   "outputs": [],
   "source": [
    "gdp_df= pd.read_csv(\"../Data/SYB65_230_202209_GDP and GDP Per Capita.csv\")"
   ]
  },
  {
   "cell_type": "code",
   "execution_count": null,
   "id": "4da1053e",
   "metadata": {},
   "outputs": [],
   "source": [
    "gdp_df"
   ]
  },
  {
   "cell_type": "code",
   "execution_count": null,
   "id": "f40f16af",
   "metadata": {},
   "outputs": [],
   "source": [
    "gdp_df.columns"
   ]
  },
  {
   "cell_type": "code",
   "execution_count": null,
   "id": "2aa292f0",
   "metadata": {
    "scrolled": true
   },
   "outputs": [],
   "source": [
    "#drop footnotes\n",
    "gdp_df = gdp_df.drop(columns =['Footnotes'])\n"
   ]
  },
  {
   "cell_type": "code",
   "execution_count": null,
   "id": "e231d135",
   "metadata": {},
   "outputs": [],
   "source": [
    "#drop source\n",
    "gdp_df= gdp_df.drop(columns =['Source'])"
   ]
  },
  {
   "cell_type": "code",
   "execution_count": null,
   "id": "40440415",
   "metadata": {},
   "outputs": [],
   "source": [
    "#drop index\n",
    "gdp_df= gdp_df.drop(columns =['Index'])"
   ]
  },
  {
   "cell_type": "code",
   "execution_count": null,
   "id": "59ff7fa1",
   "metadata": {
    "scrolled": true
   },
   "outputs": [],
   "source": [
    "gdp_drop = gdp_df.drop(gdp_df[gdp_df['Year'] == 1995].index, inplace = True)\n"
   ]
  },
  {
   "cell_type": "code",
   "execution_count": null,
   "id": "a6eab62c",
   "metadata": {},
   "outputs": [],
   "source": [
    "gdp_df"
   ]
  },
  {
   "cell_type": "code",
   "execution_count": null,
   "id": "e109b26c",
   "metadata": {},
   "outputs": [],
   "source": [
    "gdp_df.dtypes"
   ]
  },
  {
   "cell_type": "code",
   "execution_count": null,
   "id": "dec9c568",
   "metadata": {
    "scrolled": true
   },
   "outputs": [],
   "source": [
    "#what years are in this file?\n",
    "\n",
    "years_df=gdp_df.Year.value_counts().to_frame().reset_index().rename(columns = {'index' : 'Year', 'Year':'count'})\n",
    "years_df"
   ]
  },
  {
   "cell_type": "code",
   "execution_count": null,
   "id": "a332b9f3",
   "metadata": {},
   "outputs": [],
   "source": [
    "#Remove all 1995 Data\n",
    "gdp_drop = gdp_df.drop(gdp_df[gdp_df['Year'] == 1995].index, inplace = True)\n",
    "gdp_drop"
   ]
  },
  {
   "cell_type": "code",
   "execution_count": null,
   "id": "b8194a3d",
   "metadata": {
    "scrolled": false
   },
   "outputs": [],
   "source": [
    "#make sure 1995 is gone\n",
    "years_drop_df=gdp_df.Year.value_counts().to_frame().reset_index().rename(columns = {'index' : 'Year', 'Year':'count'})\n",
    "years_drop_df"
   ]
  },
  {
   "cell_type": "code",
   "execution_count": null,
   "id": "105b471c",
   "metadata": {},
   "outputs": [],
   "source": [
    "#check file (Beautiful!!)\n",
    "gdp_df"
   ]
  },
  {
   "cell_type": "code",
   "execution_count": null,
   "id": "7c1f0a1a",
   "metadata": {},
   "outputs": [],
   "source": [
    "#convert to CSV\n",
    "gdp_df.to_csv('GDP.csv')"
   ]
  },
  {
   "cell_type": "code",
   "execution_count": null,
   "id": "783388bc",
   "metadata": {},
   "outputs": [],
   "source": []
  }
 ],
 "metadata": {
  "kernelspec": {
   "display_name": "Python 3 (ipykernel)",
   "language": "python",
   "name": "python3"
  },
  "language_info": {
   "codemirror_mode": {
    "name": "ipython",
    "version": 3
   },
   "file_extension": ".py",
   "mimetype": "text/x-python",
   "name": "python",
   "nbconvert_exporter": "python",
   "pygments_lexer": "ipython3",
   "version": "3.9.13"
  }
 },
 "nbformat": 4,
 "nbformat_minor": 5
}
