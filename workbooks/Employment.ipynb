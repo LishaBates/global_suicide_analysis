{
 "cells": [
  {
   "cell_type": "code",
   "execution_count": null,
   "id": "7e93c7f9",
   "metadata": {},
   "outputs": [],
   "source": [
    "import pandas as pd\n",
    "import numpy as np"
   ]
  },
  {
   "cell_type": "code",
   "execution_count": null,
   "id": "84ea72fd",
   "metadata": {},
   "outputs": [],
   "source": [
    "employee_df= pd.read_csv(\"../Data/SYB65_200_202209_Employment.csv\")\n",
    "employee_df"
   ]
  },
  {
   "cell_type": "code",
   "execution_count": null,
   "id": "c4391f13",
   "metadata": {},
   "outputs": [],
   "source": [
    "#drop Footnotes\n",
    "employee_df=employee_df.drop(columns =['Footnotes'])\n"
   ]
  },
  {
   "cell_type": "code",
   "execution_count": null,
   "id": "afe90e9e",
   "metadata": {},
   "outputs": [],
   "source": [
    "#drop Source\n",
    "employee_df=employee_df.drop(columns =['Source'])\n"
   ]
  },
  {
   "cell_type": "code",
   "execution_count": null,
   "id": "154e519c",
   "metadata": {},
   "outputs": [],
   "source": [
    "#Drop Index\n",
    "employee_df= employee_df.drop(columns =['Index'])"
   ]
  },
  {
   "cell_type": "code",
   "execution_count": null,
   "id": "cbe33b4b",
   "metadata": {},
   "outputs": [],
   "source": [
    "employee_df"
   ]
  },
  {
   "cell_type": "code",
   "execution_count": null,
   "id": "7f67a46b",
   "metadata": {},
   "outputs": [],
   "source": [
    "#employee_df=employee_df.drop(employee_df[employee_df['Year'] == 1995].index, inplace = True)\n"
   ]
  },
  {
   "cell_type": "code",
   "execution_count": null,
   "id": "5cc07f4a",
   "metadata": {},
   "outputs": [],
   "source": [
    "employee_df\n"
   ]
  },
  {
   "cell_type": "code",
   "execution_count": null,
   "id": "06d9a953",
   "metadata": {},
   "outputs": [],
   "source": [
    "#what years are in this file?\n",
    "\n",
    "years_df=employee_df.Year.value_counts().to_frame().reset_index().rename(columns = {'index' : 'Year', 'Year':'count'})\n",
    "years_df"
   ]
  },
  {
   "cell_type": "code",
   "execution_count": null,
   "id": "c2076654",
   "metadata": {},
   "outputs": [],
   "source": [
    "#convert to CSV\n",
    "employee_df.to_csv('Employment.csv')"
   ]
  },
  {
   "cell_type": "code",
   "execution_count": null,
   "id": "d93ce56c",
   "metadata": {},
   "outputs": [],
   "source": []
  },
  {
   "cell_type": "code",
   "execution_count": null,
   "id": "70a13d7c",
   "metadata": {},
   "outputs": [],
   "source": []
  },
  {
   "cell_type": "code",
   "execution_count": null,
   "id": "27f51bf8",
   "metadata": {},
   "outputs": [],
   "source": []
  },
  {
   "cell_type": "code",
   "execution_count": null,
   "id": "0eec197d",
   "metadata": {},
   "outputs": [],
   "source": []
  },
  {
   "cell_type": "code",
   "execution_count": null,
   "id": "5d024647",
   "metadata": {},
   "outputs": [],
   "source": []
  }
 ],
 "metadata": {
  "kernelspec": {
   "display_name": "Python 3 (ipykernel)",
   "language": "python",
   "name": "python3"
  },
  "language_info": {
   "codemirror_mode": {
    "name": "ipython",
    "version": 3
   },
   "file_extension": ".py",
   "mimetype": "text/x-python",
   "name": "python",
   "nbconvert_exporter": "python",
   "pygments_lexer": "ipython3",
   "version": "3.9.13"
  }
 },
 "nbformat": 4,
 "nbformat_minor": 5
}
