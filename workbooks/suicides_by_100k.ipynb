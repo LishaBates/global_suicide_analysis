{
 "cells": [
  {
   "cell_type": "code",
   "execution_count": null,
   "id": "fa14d011",
   "metadata": {},
   "outputs": [],
   "source": [
    "import pandas as pd \n",
    "import numpy as np"
   ]
  },
  {
   "cell_type": "code",
   "execution_count": null,
   "id": "e4d3a1d8",
   "metadata": {},
   "outputs": [],
   "source": [
    "suicides= pd.read_csv(\"../Data/SuicideWiki_All-2000-2019.csv\")\n",
    "suicides"
   ]
  },
  {
   "cell_type": "code",
   "execution_count": null,
   "id": "9d7d24c7",
   "metadata": {},
   "outputs": [],
   "source": [
    "suicides.Country=suicides.Country.str.replace('*','')"
   ]
  },
  {
   "cell_type": "code",
   "execution_count": null,
   "id": "ae5fd57e",
   "metadata": {},
   "outputs": [],
   "source": [
    "suicides"
   ]
  },
  {
   "cell_type": "code",
   "execution_count": null,
   "id": "385ea13d",
   "metadata": {},
   "outputs": [],
   "source": [
    "Suicides=suicides.melt(['Country'], var_name='Year', value_name='Per_100K')\n",
    "Suicides"
   ]
  },
  {
   "cell_type": "code",
   "execution_count": null,
   "id": "dfb95dd7",
   "metadata": {},
   "outputs": [],
   "source": [
    "Suicides.to_csv('Suicides_per_100K.csv')"
   ]
  }
 ],
 "metadata": {
  "kernelspec": {
   "display_name": "Python 3 (ipykernel)",
   "language": "python",
   "name": "python3"
  },
  "language_info": {
   "codemirror_mode": {
    "name": "ipython",
    "version": 3
   },
   "file_extension": ".py",
   "mimetype": "text/x-python",
   "name": "python",
   "nbconvert_exporter": "python",
   "pygments_lexer": "ipython3",
   "version": "3.9.13"
  }
 },
 "nbformat": 4,
 "nbformat_minor": 5
}
